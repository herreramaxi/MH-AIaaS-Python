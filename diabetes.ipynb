{
 "cells": [
  {
   "cell_type": "code",
   "execution_count": 6,
   "id": "57fa9443",
   "metadata": {},
   "outputs": [
    {
     "name": "stdout",
     "output_type": "stream",
     "text": [
      "   Pregnancies  Glucose  BloodPressure  SkinThickness  Insulin   BMI  \\\n",
      "0            6      148             72             35        0  33.6   \n",
      "1            1       85             66             29        0  26.6   \n",
      "2            8      183             64              0        0  23.3   \n",
      "3            1       89             66             23       94  28.1   \n",
      "4            0      137             40             35      168  43.1   \n",
      "\n",
      "   DiabetesPedigreeFunction  Age  Outcome  \n",
      "0                     0.627   50        1  \n",
      "1                     0.351   31        0  \n",
      "2                     0.672   32        1  \n",
      "3                     0.167   21        0  \n",
      "4                     2.288   33        1  \n"
     ]
    }
   ],
   "source": [
    "import numpy as np\n",
    "import pandas as pd\n",
    "import matplotlib.pyplot as plt\n",
    "from sklearn.preprocessing import StandardScaler\n",
    "from sklearn.model_selection import train_test_split\n",
    "from sklearn import linear_model\n",
    "from sklearn.metrics import mean_squared_error\n",
    "from sklearn.metrics import mean_absolute_error\n",
    "from sklearn.preprocessing import LabelEncoder\n",
    "from sklearn import neighbors\n",
    "from sklearn import metrics\n",
    "from sklearn.linear_model import LogisticRegression\n",
    "from sklearn.feature_selection import mutual_info_classif\n",
    "import matplotlib.pyplot as plt\n",
    "import seaborn as sns\n",
    "import time\n",
    "\n",
    "start_time = time.time()\n",
    "\n",
    "data = pd.read_csv(\"diabetes.csv\")\n",
    "print(data.head())"
   ]
  },
  {
   "cell_type": "code",
   "execution_count": 8,
   "id": "a3eed740",
   "metadata": {},
   "outputs": [
    {
     "name": "stdout",
     "output_type": "stream",
     "text": [
      "Pregnancies                 0\n",
      "Glucose                     0\n",
      "BloodPressure               0\n",
      "SkinThickness               0\n",
      "Insulin                     0\n",
      "BMI                         0\n",
      "DiabetesPedigreeFunction    0\n",
      "Age                         0\n",
      "Outcome                     0\n",
      "dtype: int64\n"
     ]
    }
   ],
   "source": [
    "print(data.isnull().sum())"
   ]
  },
  {
   "cell_type": "code",
   "execution_count": 9,
   "id": "ff7c938d",
   "metadata": {},
   "outputs": [
    {
     "name": "stdout",
     "output_type": "stream",
     "text": [
      "     Pregnancies  Glucose  BloodPressure  SkinThickness  Insulin   BMI  Age  \\\n",
      "0              6      148             72             35        0  33.6   50   \n",
      "1              1       85             66             29        0  26.6   31   \n",
      "2              8      183             64              0        0  23.3   32   \n",
      "3              1       89             66             23       94  28.1   21   \n",
      "4              0      137             40             35      168  43.1   33   \n",
      "..           ...      ...            ...            ...      ...   ...  ...   \n",
      "763           10      101             76             48      180  32.9   63   \n",
      "764            2      122             70             27        0  36.8   27   \n",
      "765            5      121             72             23      112  26.2   30   \n",
      "766            1      126             60              0        0  30.1   47   \n",
      "767            1       93             70             31        0  30.4   23   \n",
      "\n",
      "     DiabetesPedigreeFunction  \n",
      "0                       0.627  \n",
      "1                       0.351  \n",
      "2                       0.672  \n",
      "3                       0.167  \n",
      "4                       2.288  \n",
      "..                        ...  \n",
      "763                     0.171  \n",
      "764                     0.340  \n",
      "765                     0.245  \n",
      "766                     0.349  \n",
      "767                     0.315  \n",
      "\n",
      "[768 rows x 8 columns]\n",
      "Model Evaluation\n",
      "Accuracy: 0.7792\n",
      "Time taken for the pipeline execution: 11123.72 milliseconds, 11.1237 seconds\n"
     ]
    }
   ],
   "source": [
    "feature_train = data[['Pregnancies', 'Glucose', 'BloodPressure',\n",
    "                      'SkinThickness', 'Insulin', 'BMI', 'Age', 'DiabetesPedigreeFunction']]\n",
    "target = data[['Outcome']]\n",
    "\n",
    "print(feature_train)\n",
    "\n",
    "X_train, X_test, Y_train, Y_test = train_test_split(\n",
    "    feature_train, target, test_size=0.20, random_state=1)\n",
    "\n",
    "regression = LogisticRegression(solver=\"liblinear\")\n",
    "regression.fit(X_train, Y_train.values.ravel())\n",
    "\n",
    "results = regression.predict(X_test)\n",
    "accuracy = metrics.accuracy_score(results, Y_test.values.ravel())\n",
    "\n",
    "print(\"Model Evaluation\")\n",
    "print(f\"Accuracy: {accuracy:.4f}\")\n",
    "\n",
    "end_time = time.time()\n",
    "time_taken = end_time - start_time\n",
    "time_taken_ms = (time_taken) * 1000\n",
    "print(f\"Time taken for the pipeline execution: {time_taken_ms:.2f} milliseconds, {time_taken:.4f} seconds\")"
   ]
  },
  {
   "cell_type": "code",
   "execution_count": null,
   "id": "e8cc2f82",
   "metadata": {},
   "outputs": [],
   "source": []
  }
 ],
 "metadata": {
  "kernelspec": {
   "display_name": "Python 3 (ipykernel)",
   "language": "python",
   "name": "python3"
  },
  "language_info": {
   "codemirror_mode": {
    "name": "ipython",
    "version": 3
   },
   "file_extension": ".py",
   "mimetype": "text/x-python",
   "name": "python",
   "nbconvert_exporter": "python",
   "pygments_lexer": "ipython3",
   "version": "3.9.12"
  }
 },
 "nbformat": 4,
 "nbformat_minor": 5
}
