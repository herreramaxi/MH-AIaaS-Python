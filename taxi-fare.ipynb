{
 "cells": [
  {
   "cell_type": "code",
   "execution_count": 66,
   "id": "57fa9443",
   "metadata": {},
   "outputs": [],
   "source": [
    "#https://www.kaggle.com/code/ashydv/sales-prediction-simple-linear-regression\n",
    "from sklearn.preprocessing import LabelEncoder\n",
    "from sklearn import linear_model\n",
    "# Import the numpy and pandas package\n",
    "from sklearn.model_selection import train_test_split\n",
    "from sklearn.linear_model import LinearRegression\n",
    "import statsmodels.api as sm\n",
    "import matplotlib.pyplot as plt\n",
    "#import pandas_datareader.data as web\n",
    "import seaborn as sns\n",
    "import pandas as pd\n",
    "import os.path\n",
    "import numpy as np\n",
    "from scipy.stats import spearmanr\n",
    "import time\n",
    "from sklearn.preprocessing import StandardScaler\n",
    "from sklearn.metrics import (mean_squared_error,\n",
    "                             mean_absolute_error,\n",
    "                             mean_squared_log_error, \n",
    "                             median_absolute_error, \n",
    "                             explained_variance_score, \n",
    "                             r2_score)"
   ]
  },
  {
   "cell_type": "code",
   "execution_count": 67,
   "id": "776fcffe",
   "metadata": {},
   "outputs": [
    {
     "data": {
      "text/html": [
       "<div>\n",
       "<style scoped>\n",
       "    .dataframe tbody tr th:only-of-type {\n",
       "        vertical-align: middle;\n",
       "    }\n",
       "\n",
       "    .dataframe tbody tr th {\n",
       "        vertical-align: top;\n",
       "    }\n",
       "\n",
       "    .dataframe thead th {\n",
       "        text-align: right;\n",
       "    }\n",
       "</style>\n",
       "<table border=\"1\" class=\"dataframe\">\n",
       "  <thead>\n",
       "    <tr style=\"text-align: right;\">\n",
       "      <th></th>\n",
       "      <th>vendor_id</th>\n",
       "      <th>rate_code</th>\n",
       "      <th>passenger_count</th>\n",
       "      <th>trip_time_in_secs</th>\n",
       "      <th>trip_distance</th>\n",
       "      <th>payment_type</th>\n",
       "      <th>fare_amount</th>\n",
       "    </tr>\n",
       "  </thead>\n",
       "  <tbody>\n",
       "    <tr>\n",
       "      <th>0</th>\n",
       "      <td>CMT</td>\n",
       "      <td>1</td>\n",
       "      <td>1</td>\n",
       "      <td>1271</td>\n",
       "      <td>3.8</td>\n",
       "      <td>CRD</td>\n",
       "      <td>17.5</td>\n",
       "    </tr>\n",
       "    <tr>\n",
       "      <th>1</th>\n",
       "      <td>CMT</td>\n",
       "      <td>1</td>\n",
       "      <td>1</td>\n",
       "      <td>474</td>\n",
       "      <td>1.5</td>\n",
       "      <td>CRD</td>\n",
       "      <td>8.0</td>\n",
       "    </tr>\n",
       "    <tr>\n",
       "      <th>2</th>\n",
       "      <td>CMT</td>\n",
       "      <td>1</td>\n",
       "      <td>1</td>\n",
       "      <td>637</td>\n",
       "      <td>1.4</td>\n",
       "      <td>CRD</td>\n",
       "      <td>8.5</td>\n",
       "    </tr>\n",
       "    <tr>\n",
       "      <th>3</th>\n",
       "      <td>CMT</td>\n",
       "      <td>1</td>\n",
       "      <td>1</td>\n",
       "      <td>181</td>\n",
       "      <td>0.6</td>\n",
       "      <td>CSH</td>\n",
       "      <td>4.5</td>\n",
       "    </tr>\n",
       "    <tr>\n",
       "      <th>4</th>\n",
       "      <td>CMT</td>\n",
       "      <td>1</td>\n",
       "      <td>1</td>\n",
       "      <td>661</td>\n",
       "      <td>1.1</td>\n",
       "      <td>CRD</td>\n",
       "      <td>8.5</td>\n",
       "    </tr>\n",
       "  </tbody>\n",
       "</table>\n",
       "</div>"
      ],
      "text/plain": [
       "  vendor_id  rate_code  passenger_count  trip_time_in_secs  trip_distance  \\\n",
       "0       CMT          1                1               1271            3.8   \n",
       "1       CMT          1                1                474            1.5   \n",
       "2       CMT          1                1                637            1.4   \n",
       "3       CMT          1                1                181            0.6   \n",
       "4       CMT          1                1                661            1.1   \n",
       "\n",
       "  payment_type  fare_amount  \n",
       "0          CRD         17.5  \n",
       "1          CRD          8.0  \n",
       "2          CRD          8.5  \n",
       "3          CSH          4.5  \n",
       "4          CRD          8.5  "
      ]
     },
     "execution_count": 67,
     "metadata": {},
     "output_type": "execute_result"
    }
   ],
   "source": [
    "start_time = time.time()\n",
    "\n",
    "data = pd.DataFrame(pd.read_csv(\"taxi-fare-full.csv\"))\n",
    "data.head()"
   ]
  },
  {
   "cell_type": "code",
   "execution_count": 68,
   "id": "b352f724",
   "metadata": {},
   "outputs": [
    {
     "data": {
      "text/html": [
       "<div>\n",
       "<style scoped>\n",
       "    .dataframe tbody tr th:only-of-type {\n",
       "        vertical-align: middle;\n",
       "    }\n",
       "\n",
       "    .dataframe tbody tr th {\n",
       "        vertical-align: top;\n",
       "    }\n",
       "\n",
       "    .dataframe thead th {\n",
       "        text-align: right;\n",
       "    }\n",
       "</style>\n",
       "<table border=\"1\" class=\"dataframe\">\n",
       "  <thead>\n",
       "    <tr style=\"text-align: right;\">\n",
       "      <th></th>\n",
       "      <th>rate_code</th>\n",
       "      <th>passenger_count</th>\n",
       "      <th>trip_time_in_secs</th>\n",
       "      <th>trip_distance</th>\n",
       "      <th>fare_amount</th>\n",
       "    </tr>\n",
       "  </thead>\n",
       "  <tbody>\n",
       "    <tr>\n",
       "      <th>count</th>\n",
       "      <td>200000.00000</td>\n",
       "      <td>200000.000000</td>\n",
       "      <td>200000.000000</td>\n",
       "      <td>200000.000000</td>\n",
       "      <td>200000.000000</td>\n",
       "    </tr>\n",
       "    <tr>\n",
       "      <th>mean</th>\n",
       "      <td>1.03336</td>\n",
       "      <td>1.869280</td>\n",
       "      <td>681.769010</td>\n",
       "      <td>2.748261</td>\n",
       "      <td>11.639193</td>\n",
       "    </tr>\n",
       "    <tr>\n",
       "      <th>std</th>\n",
       "      <td>0.28021</td>\n",
       "      <td>1.550646</td>\n",
       "      <td>487.215898</td>\n",
       "      <td>3.233450</td>\n",
       "      <td>10.175079</td>\n",
       "    </tr>\n",
       "    <tr>\n",
       "      <th>min</th>\n",
       "      <td>0.00000</td>\n",
       "      <td>0.000000</td>\n",
       "      <td>0.000000</td>\n",
       "      <td>0.000000</td>\n",
       "      <td>2.500000</td>\n",
       "    </tr>\n",
       "    <tr>\n",
       "      <th>25%</th>\n",
       "      <td>1.00000</td>\n",
       "      <td>1.000000</td>\n",
       "      <td>360.000000</td>\n",
       "      <td>1.000000</td>\n",
       "      <td>6.500000</td>\n",
       "    </tr>\n",
       "    <tr>\n",
       "      <th>50%</th>\n",
       "      <td>1.00000</td>\n",
       "      <td>1.000000</td>\n",
       "      <td>554.000000</td>\n",
       "      <td>1.700000</td>\n",
       "      <td>9.000000</td>\n",
       "    </tr>\n",
       "    <tr>\n",
       "      <th>75%</th>\n",
       "      <td>1.00000</td>\n",
       "      <td>2.000000</td>\n",
       "      <td>885.000000</td>\n",
       "      <td>3.050000</td>\n",
       "      <td>13.000000</td>\n",
       "    </tr>\n",
       "    <tr>\n",
       "      <th>max</th>\n",
       "      <td>6.00000</td>\n",
       "      <td>6.000000</td>\n",
       "      <td>9771.000000</td>\n",
       "      <td>97.800000</td>\n",
       "      <td>470.000000</td>\n",
       "    </tr>\n",
       "  </tbody>\n",
       "</table>\n",
       "</div>"
      ],
      "text/plain": [
       "          rate_code  passenger_count  trip_time_in_secs  trip_distance  \\\n",
       "count  200000.00000    200000.000000      200000.000000  200000.000000   \n",
       "mean        1.03336         1.869280         681.769010       2.748261   \n",
       "std         0.28021         1.550646         487.215898       3.233450   \n",
       "min         0.00000         0.000000           0.000000       0.000000   \n",
       "25%         1.00000         1.000000         360.000000       1.000000   \n",
       "50%         1.00000         1.000000         554.000000       1.700000   \n",
       "75%         1.00000         2.000000         885.000000       3.050000   \n",
       "max         6.00000         6.000000        9771.000000      97.800000   \n",
       "\n",
       "         fare_amount  \n",
       "count  200000.000000  \n",
       "mean       11.639193  \n",
       "std        10.175079  \n",
       "min         2.500000  \n",
       "25%         6.500000  \n",
       "50%         9.000000  \n",
       "75%        13.000000  \n",
       "max       470.000000  "
      ]
     },
     "execution_count": 68,
     "metadata": {},
     "output_type": "execute_result"
    }
   ],
   "source": [
    "data.describe()"
   ]
  },
  {
   "cell_type": "code",
   "execution_count": 69,
   "id": "07079e35",
   "metadata": {},
   "outputs": [
    {
     "name": "stdout",
     "output_type": "stream",
     "text": [
      "vendor_id            0\n",
      "rate_code            0\n",
      "passenger_count      0\n",
      "trip_time_in_secs    0\n",
      "trip_distance        0\n",
      "payment_type         0\n",
      "fare_amount          0\n",
      "dtype: int64\n"
     ]
    }
   ],
   "source": [
    "print(data.isnull().sum())"
   ]
  },
  {
   "cell_type": "code",
   "execution_count": 75,
   "id": "884671dd",
   "metadata": {},
   "outputs": [
    {
     "name": "stdout",
     "output_type": "stream",
     "text": [
      "   vendor_id  rate_code  passenger_count  trip_time_in_secs  trip_distance  \\\n",
      "0          0          1                1           1.209387       0.325269   \n",
      "1          0          1                1          -0.426442      -0.386047   \n",
      "2          0          1                1          -0.091888      -0.416974   \n",
      "3          0          1                1          -1.027820      -0.664388   \n",
      "4          0          1                1          -0.042628      -0.509754   \n",
      "\n",
      "   payment_type  fare_amount  \n",
      "0             0         17.5  \n",
      "1             0          8.0  \n",
      "2             0          8.5  \n",
      "3             1          4.5  \n",
      "4             0          8.5  \n"
     ]
    }
   ],
   "source": [
    "label_encoder = LabelEncoder()\n",
    "data['vendor_id'] = label_encoder.fit_transform(data['vendor_id'])\n",
    "data['payment_type'] = label_encoder.fit_transform(data['payment_type'])\n",
    "\n",
    "names = ['trip_time_in_secs', 'trip_distance']\n",
    "scaler = StandardScaler()\n",
    "data[names] = scaler.fit_transform(data[names])\n",
    "\n",
    "print(data.head())"
   ]
  },
  {
   "cell_type": "code",
   "execution_count": 71,
   "id": "efb682ab",
   "metadata": {},
   "outputs": [
    {
     "name": "stdout",
     "output_type": "stream",
     "text": [
      "X.describe()\n",
      "           vendor_id     rate_code  passenger_count  trip_time_in_secs  \\\n",
      "count  200000.000000  200000.00000    200000.000000       2.000000e+05   \n",
      "mean        0.585820       1.03336         1.869280       9.312801e-16   \n",
      "std         0.492581       0.28021         1.550646       1.000003e+00   \n",
      "min         0.000000       0.00000         0.000000      -1.399320e+00   \n",
      "25%         0.000000       1.00000         1.000000      -6.604255e-01   \n",
      "50%         1.000000       1.00000         1.000000      -2.622438e-01   \n",
      "75%         1.000000       1.00000         2.000000       4.171282e-01   \n",
      "max         1.000000       6.00000         6.000000       1.865549e+01   \n",
      "\n",
      "       trip_distance  payment_type  \n",
      "count   2.000000e+05  200000.00000  \n",
      "mean   -1.479067e-16       0.48008  \n",
      "std     1.000003e+00       0.51204  \n",
      "min    -8.499490e-01       0.00000  \n",
      "25%    -5.406810e-01       0.00000  \n",
      "50%    -3.241935e-01       0.00000  \n",
      "75%     9.331823e-02       1.00000  \n",
      "max     2.939646e+01       4.00000  \n",
      "count    200000.000000\n",
      "mean         11.639193\n",
      "std          10.175079\n",
      "min           2.500000\n",
      "25%           6.500000\n",
      "50%           9.000000\n",
      "75%          13.000000\n",
      "max         470.000000\n",
      "Name: fare_amount, dtype: float64\n"
     ]
    }
   ],
   "source": [
    "X = data.drop(\"fare_amount\", axis=1)\n",
    "# Our descriptive feature\n",
    "print(\"X.describe()\")\n",
    "print(X.describe())\n",
    "\n",
    "y = data['fare_amount']\n",
    "print(y.describe())"
   ]
  },
  {
   "cell_type": "code",
   "execution_count": 72,
   "id": "b4379f38",
   "metadata": {},
   "outputs": [
    {
     "name": "stdout",
     "output_type": "stream",
     "text": [
      "\n",
      "Let's build our Linear regression Model\n",
      "\n",
      "\n",
      "(X_train.head())\n",
      "\n",
      "======================\n",
      "        vendor_id  rate_code  passenger_count  trip_time_in_secs  \\\n",
      "34297           1          1                6          -0.537277   \n",
      "148120          1          1                1           1.556256   \n",
      "16583           1          1                5          -0.537277   \n",
      "197713          1          1                5          -0.290979   \n",
      "193997          1          1                1           1.433107   \n",
      "\n",
      "        trip_distance  payment_type  \n",
      "34297       -0.497384             0  \n",
      "148120       2.044799             1  \n",
      "16583       -0.540681             0  \n",
      "197713      -0.491198             1  \n",
      "193997       0.408772             0  \n"
     ]
    },
    {
     "data": {
      "text/plain": [
       "LinearRegression()"
      ]
     },
     "execution_count": 72,
     "metadata": {},
     "output_type": "execute_result"
    }
   ],
   "source": [
    "print(\"\\nLet's build our Linear regression Model\\n\")\n",
    "\n",
    "X_train, X_test, Y_train, Y_test = train_test_split(X, y, test_size=0.20, random_state=1)\n",
    "\n",
    "print(\"\\n(X_train.head())\\n\")\n",
    "print(\"======================\")\n",
    "print(X_train.head())\n",
    "\n",
    "regression = linear_model.LinearRegression()\n",
    "regression.fit(X_train, Y_train)"
   ]
  },
  {
   "cell_type": "code",
   "execution_count": 73,
   "id": "c161c5f5",
   "metadata": {},
   "outputs": [
    {
     "name": "stdout",
     "output_type": "stream",
     "text": [
      "Model Evaluation\n",
      "R-squared: 0.741\n",
      "Mean squared error: 28.310\n",
      "Mean absolute error: 0.913\n",
      "Time taken for the pipeline execution: 557.63 milliseconds, 0.5576 seconds\n"
     ]
    }
   ],
   "source": [
    "print(\"Model Evaluation\")\n",
    "print(\"R-squared: %.3f\" % regression.score(X_test, Y_test))\n",
    "Y_pred = regression.predict(X_test)\n",
    "print(\"Mean squared error: %.3f\" % mean_squared_error(Y_test, Y_pred))  # Test MSE\n",
    "print(\"Mean absolute error: %.3f\" % mean_absolute_error(Y_test, Y_pred))\n",
    "\n",
    "end_time = time.time()\n",
    "time_taken = end_time - start_time\n",
    "time_taken_ms = (time_taken) * 1000\n",
    "print(f\"Time taken for the pipeline execution: {time_taken_ms:.2f} milliseconds, {time_taken:.4f} seconds\")"
   ]
  },
  {
   "cell_type": "code",
   "execution_count": 76,
   "id": "4e43ff7b",
   "metadata": {},
   "outputs": [
    {
     "name": "stderr",
     "output_type": "stream",
     "text": [
      "C:\\ProgramData\\Anaconda3\\lib\\site-packages\\sklearn\\base.py:450: UserWarning: X does not have valid feature names, but LinearRegression was fitted with feature names\n",
      "  warnings.warn(\n"
     ]
    },
    {
     "data": {
      "text/plain": [
       "array([16.74787941])"
      ]
     },
     "execution_count": 76,
     "metadata": {},
     "output_type": "execute_result"
    }
   ],
   "source": [
    "regression.predict(np.array([[0,1,1,1.209387,0.325269,0]]))"
   ]
  },
  {
   "cell_type": "code",
   "execution_count": null,
   "id": "f1589e50",
   "metadata": {},
   "outputs": [],
   "source": []
  }
 ],
 "metadata": {
  "kernelspec": {
   "display_name": "Python 3 (ipykernel)",
   "language": "python",
   "name": "python3"
  },
  "language_info": {
   "codemirror_mode": {
    "name": "ipython",
    "version": 3
   },
   "file_extension": ".py",
   "mimetype": "text/x-python",
   "name": "python",
   "nbconvert_exporter": "python",
   "pygments_lexer": "ipython3",
   "version": "3.9.12"
  }
 },
 "nbformat": 4,
 "nbformat_minor": 5
}
